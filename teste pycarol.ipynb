{
 "cells": [
  {
   "cell_type": "code",
   "execution_count": 1,
   "metadata": {},
   "outputs": [
    {
     "name": "stdout",
     "output_type": "stream",
     "text": [
      "[]0\n"
     ]
    },
    {
     "ename": "NoScrollIdException",
     "evalue": "No scrollId. Something is wrong",
     "output_type": "error",
     "traceback": [
      "\u001b[1;31m---------------------------------------------------------------------------\u001b[0m",
      "\u001b[1;31mNoScrollIdException\u001b[0m                       Traceback (most recent call last)",
      "Cell \u001b[1;32mIn[1], line 17\u001b[0m\n\u001b[0;32m     15\u001b[0m language \u001b[39m=\u001b[39m \u001b[39m'\u001b[39m\u001b[39mpt-br\u001b[39m\u001b[39m'\u001b[39m\n\u001b[0;32m     16\u001b[0m params \u001b[39m=\u001b[39m {\u001b[39m'\u001b[39m\u001b[39mid_lingua\u001b[39m\u001b[39m'\u001b[39m:language}  \n\u001b[1;32m---> 17\u001b[0m response \u001b[39m=\u001b[39m query\u001b[39m.\u001b[39;49mnamed(named_query \u001b[39m=\u001b[39;49m \u001b[39m'\u001b[39;49m\u001b[39mget_country_by_language\u001b[39;49m\u001b[39m'\u001b[39;49m, json_query\u001b[39m=\u001b[39;49mparams)\u001b[39m.\u001b[39;49mgo()\u001b[39m.\u001b[39mresults \n\u001b[0;32m     18\u001b[0m \u001b[39mif\u001b[39;00m response:\n\u001b[0;32m     19\u001b[0m     \u001b[39mprint\u001b[39m(response)\n",
      "File \u001b[1;32mc:\\Users\\Ricardo Ferreira\\AppData\\Local\\Programs\\Python\\Python310\\lib\\site-packages\\pycarol\\query.py:291\u001b[0m, in \u001b[0;36mQuery.go\u001b[1;34m(self, callback)\u001b[0m\n\u001b[0;32m    287\u001b[0m \u001b[39mif\u001b[39;00m \u001b[39mnot\u001b[39;00m \u001b[39mself\u001b[39m\u001b[39m.\u001b[39moffset \u001b[39m==\u001b[39m \u001b[39m0\u001b[39m:\n\u001b[0;32m    288\u001b[0m     \u001b[39mraise\u001b[39;00m \u001b[39mValueError\u001b[39;00m(\n\u001b[0;32m    289\u001b[0m         \u001b[39m\"\u001b[39m\u001b[39mIt is not possible to use offset when using scroll for pagination\u001b[39m\u001b[39m\"\u001b[39m\n\u001b[0;32m    290\u001b[0m     )\n\u001b[1;32m--> 291\u001b[0m \u001b[39mself\u001b[39;49m\u001b[39m.\u001b[39;49m_scrollable_query_handler(callback)\n\u001b[0;32m    293\u001b[0m \u001b[39mreturn\u001b[39;00m \u001b[39mself\u001b[39m\n",
      "File \u001b[1;32mc:\\Users\\Ricardo Ferreira\\AppData\\Local\\Programs\\Python\\Python310\\lib\\site-packages\\pycarol\\query.py:370\u001b[0m, in \u001b[0;36mQuery._scrollable_query_handler\u001b[1;34m(self, callback)\u001b[0m\n\u001b[0;32m    368\u001b[0m \u001b[39mif\u001b[39;00m scroll_id \u001b[39mis\u001b[39;00m \u001b[39mNone\u001b[39;00m:\n\u001b[0;32m    369\u001b[0m     \u001b[39mprint\u001b[39m(result)\n\u001b[1;32m--> 370\u001b[0m     \u001b[39mraise\u001b[39;00m NoScrollIdException\n",
      "\u001b[1;31mNoScrollIdException\u001b[0m: No scrollId. Something is wrong"
     ]
    }
   ],
   "source": [
    "import requests\t\n",
    "import time\t\n",
    "from pycarol.query import Query\n",
    "from pycarol import Carol, ApiKeyAuth\n",
    "\n",
    "login = Carol(domain='protheusassistant',\n",
    "            app_name=' ',\n",
    "            organization='totvs',\n",
    "            #auth=ApiKeyAuth('d8fe3b6b00074a8d81774551397040f4'),\n",
    "            auth=ApiKeyAuth('e6783cc469ca4597a484286c40a26644'),\n",
    "            connector_id='9583ef3202284f63bd2770dcdb489d0d')\n",
    "    # Criamos uma instancia da classe Query da Carol\n",
    "query = Query(login)\n",
    "\n",
    "language = 'pt-br'\n",
    "params = {'id_lingua':language}  \n",
    "response = query.named(named_query = 'get_country_by_language', json_query=params).go().results \n",
    "if response:\n",
    "    print(response)"
   ]
  }
 ],
 "metadata": {
  "kernelspec": {
   "display_name": "Python 3",
   "language": "python",
   "name": "python3"
  },
  "language_info": {
   "codemirror_mode": {
    "name": "ipython",
    "version": 3
   },
   "file_extension": ".py",
   "mimetype": "text/x-python",
   "name": "python",
   "nbconvert_exporter": "python",
   "pygments_lexer": "ipython3",
   "version": "3.10.10"
  },
  "orig_nbformat": 4
 },
 "nbformat": 4,
 "nbformat_minor": 2
}
